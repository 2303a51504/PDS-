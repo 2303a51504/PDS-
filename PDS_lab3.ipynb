{
  "nbformat": 4,
  "nbformat_minor": 0,
  "metadata": {
    "colab": {
      "provenance": []
    },
    "kernelspec": {
      "name": "python3",
      "display_name": "Python 3"
    },
    "language_info": {
      "name": "python"
    }
  },
  "cells": [
    {
      "cell_type": "code",
      "execution_count": 1,
      "metadata": {
        "id": "oALiMYku5XRp"
      },
      "outputs": [],
      "source": [
        "import numpy as np\n",
        "import matplotlib.pyplot as plt"
      ]
    },
    {
      "cell_type": "code",
      "source": [
        "image = np.random.randint(0, 256, (3, 3, 3), dtype=np.uint8)\n",
        "print(\"Original 3D Image Array:\\n\", image)"
      ],
      "metadata": {
        "colab": {
          "base_uri": "https://localhost:8080/"
        },
        "id": "m1ktTPDk8SWj",
        "outputId": "81ebe754-20db-47e7-e664-b79dc182359f"
      },
      "execution_count": 2,
      "outputs": [
        {
          "output_type": "stream",
          "name": "stdout",
          "text": [
            "Original 3D Image Array:\n",
            " [[[ 42 136 150]\n",
            "  [ 27  16  55]\n",
            "  [ 81 165 118]]\n",
            "\n",
            " [[ 21 246  48]\n",
            "  [228  47 254]\n",
            "  [224 172  59]]\n",
            "\n",
            " [[214 209  10]\n",
            "  [ 52  70 234]\n",
            "  [ 80 167 248]]]\n"
          ]
        }
      ]
    },
    {
      "cell_type": "code",
      "source": [
        "red_channel = image[:, :, 0]\n",
        "green_channel = image[:, :, 1]\n",
        "blue_channel = image[:, :, 2]"
      ],
      "metadata": {
        "id": "zR0SQFaR8SZO"
      },
      "execution_count": 3,
      "outputs": []
    },
    {
      "cell_type": "code",
      "source": [
        "print(\"\\nRed Channel:\\n\", red_channel)\n",
        "print(\"\\nGreen Channel:\\n\", green_channel)\n",
        "print(\"\\nBlue Channel:\\n\", blue_channel)"
      ],
      "metadata": {
        "colab": {
          "base_uri": "https://localhost:8080/"
        },
        "id": "eqcta_Bo8ScW",
        "outputId": "916877cb-f8d8-4376-8e0b-e591cef0246a"
      },
      "execution_count": 4,
      "outputs": [
        {
          "output_type": "stream",
          "name": "stdout",
          "text": [
            "\n",
            "Red Channel:\n",
            " [[ 42  27  81]\n",
            " [ 21 228 224]\n",
            " [214  52  80]]\n",
            "\n",
            "Green Channel:\n",
            " [[136  16 165]\n",
            " [246  47 172]\n",
            " [209  70 167]]\n",
            "\n",
            "Blue Channel:\n",
            " [[150  55 118]\n",
            " [ 48 254  59]\n",
            " [ 10 234 248]]\n"
          ]
        }
      ]
    },
    {
      "cell_type": "code",
      "source": [
        "avg_red = np.mean(red_channel)\n",
        "avg_green = np.mean(green_channel)\n",
        "avg_blue = np.mean(blue_channel)"
      ],
      "metadata": {
        "id": "xeGh9SOv8SfB"
      },
      "execution_count": 5,
      "outputs": []
    },
    {
      "cell_type": "code",
      "source": [
        "print(\"\\nAverage Intensities:\")\n",
        "print(f\"Red: {avg_red:.2f}, Green: {avg_green:.2f}, Blue: {avg_blue:.2f}\")\n"
      ],
      "metadata": {
        "colab": {
          "base_uri": "https://localhost:8080/"
        },
        "id": "NKOs5Id88SiA",
        "outputId": "1ef19394-95f6-4400-9dda-206afb6e57c7"
      },
      "execution_count": 6,
      "outputs": [
        {
          "output_type": "stream",
          "name": "stdout",
          "text": [
            "\n",
            "Average Intensities:\n",
            "Red: 107.67, Green: 136.44, Blue: 130.67\n"
          ]
        }
      ]
    },
    {
      "cell_type": "code",
      "source": [
        "brightened_image = np.clip(image + 50, 0, 255).astype(np.uint8)\n",
        "print(\"\\nBrightened Image Array:\\n\", brightened_image)"
      ],
      "metadata": {
        "colab": {
          "base_uri": "https://localhost:8080/"
        },
        "id": "j3gcbiZU8Sk8",
        "outputId": "a0c5a6b9-2c9f-4df4-9c69-4c0f6844f107"
      },
      "execution_count": 7,
      "outputs": [
        {
          "output_type": "stream",
          "name": "stdout",
          "text": [
            "\n",
            "Brightened Image Array:\n",
            " [[[ 92 186 200]\n",
            "  [ 77  66 105]\n",
            "  [131 215 168]]\n",
            "\n",
            " [[ 71  40  98]\n",
            "  [ 22  97  48]\n",
            "  [ 18 222 109]]\n",
            "\n",
            " [[  8   3  60]\n",
            "  [102 120  28]\n",
            "  [130 217  42]]]\n"
          ]
        }
      ]
    },
    {
      "cell_type": "code",
      "source": [
        "fig, axes = plt.subplots(1, 5, figsize=(15, 5))\n"
      ],
      "metadata": {
        "colab": {
          "base_uri": "https://localhost:8080/",
          "height": 451
        },
        "id": "a6V80dvd8Snj",
        "outputId": "85938768-46af-47e3-e8fd-f76b91b74cc8"
      },
      "execution_count": 8,
      "outputs": [
        {
          "output_type": "display_data",
          "data": {
            "text/plain": [
              "<Figure size 1500x500 with 5 Axes>"
            ],
            "image/png": "[encoded data removed]"
          },
          "metadata": {}
        }
      ]
    },
    {
      "cell_type": "code",
      "source": [
        "axes[0].imshow(image)\n",
        "axes[0].set_title(\"Original Image\")\n",
        "axes[0].axis(\"off\")"
      ],
      "metadata": {
        "colab": {
          "base_uri": "https://localhost:8080/"
        },
        "id": "aBjREUiq8StD",
        "outputId": "42c84adb-7303-4c19-cfe3-15bbda47ff8e"
      },
      "execution_count": 9,
      "outputs": [
        {
          "output_type": "execute_result",
          "data": {
            "text/plain": [
              "(np.float64(-0.5), np.float64(2.5), np.float64(2.5), np.float64(-0.5))"
            ]
          },
          "metadata": {},
          "execution_count": 9
        }
      ]
    },
    {
      "cell_type": "code",
      "source": [
        "axes[1].imshow(red_channel, cmap=\"Reds\")\n",
        "axes[1].set_title(\"Red Channel\")\n",
        "axes[1].axis(\"off\")"
      ],
      "metadata": {
        "colab": {
          "base_uri": "https://localhost:8080/"
        },
        "id": "iX62XkCv8Sva",
        "outputId": "995905ff-8865-4bdb-d0a3-caec2e64a391"
      },
      "execution_count": 10,
      "outputs": [
        {
          "output_type": "execute_result",
          "data": {
            "text/plain": [
              "(np.float64(-0.5), np.float64(2.5), np.float64(2.5), np.float64(-0.5))"
            ]
          },
          "metadata": {},
          "execution_count": 10
        }
      ]
    },
    {
      "cell_type": "code",
      "source": [
        "axes[2].imshow(green_channel, cmap=\"Greens\")\n",
        "axes[2].set_title(\"Green Channel\")\n",
        "axes[2].axis(\"off\")\n"
      ],
      "metadata": {
        "colab": {
          "base_uri": "https://localhost:8080/"
        },
        "id": "cKELvyXp8SyR",
        "outputId": "059bc7a6-0118-454b-bbd3-b9126364d509"
      },
      "execution_count": 11,
      "outputs": [
        {
          "output_type": "execute_result",
          "data": {
            "text/plain": [
              "(np.float64(-0.5), np.float64(2.5), np.float64(2.5), np.float64(-0.5))"
            ]
          },
          "metadata": {},
          "execution_count": 11
        }
      ]
    },
    {
      "cell_type": "code",
      "source": [
        "axes[3].imshow(blue_channel, cmap=\"Blues\")\n",
        "axes[3].set_title(\"Blue Channel\")\n",
        "axes[3].axis(\"off\")"
      ],
      "metadata": {
        "colab": {
          "base_uri": "https://localhost:8080/"
        },
        "id": "woJ4OkDy8S1C",
        "outputId": "85ee700a-3d52-44f0-b57a-63b693eda9fb"
      },
      "execution_count": 12,
      "outputs": [
        {
          "output_type": "execute_result",
          "data": {
            "text/plain": [
              "(np.float64(-0.5), np.float64(2.5), np.float64(2.5), np.float64(-0.5))"
            ]
          },
          "metadata": {},
          "execution_count": 12
        }
      ]
    },
    {
      "cell_type": "code",
      "source": [
        "axes[4].imshow(brightened_image)\n",
        "axes[4].set_title(\"Brightened Image\")\n",
        "axes[4].axis(\"off\")\n"
      ],
      "metadata": {
        "colab": {
          "base_uri": "https://localhost:8080/"
        },
        "id": "BYkPpy3T8S3o",
        "outputId": "e66f727f-547e-441b-a6cf-b07f1456f07f"
      },
      "execution_count": 13,
      "outputs": [
        {
          "output_type": "execute_result",
          "data": {
            "text/plain": [
              "(np.float64(-0.5), np.float64(2.5), np.float64(2.5), np.float64(-0.5))"
            ]
          },
          "metadata": {},
          "execution_count": 13
        }
      ]
    },
    {
      "cell_type": "code",
      "source": [
        "plt.show()"
      ],
      "metadata": {
        "id": "BKWW_gNf8S6P"
      },
      "execution_count": 14,
      "outputs": []
    },
    {
      "cell_type": "code",
      "source": [],
      "metadata": {
        "id": "qiRIj_pJCwz-"
      },
      "execution_count": null,
      "outputs": []
    },
    {
      "cell_type": "code",
      "source": [],
      "metadata": {
        "id": "TV2t5uPNCw20"
      },
      "execution_count": null,
      "outputs": []
    },
    {
      "cell_type": "code",
      "source": [
        "import numpy as np\n",
        "import pandas as pd\n",
        "import matplotlib.pyplot as plt\n",
        "import json\n"
      ],
      "metadata": {
        "id": "ny9gFqbgCw6G"
      },
      "execution_count": 15,
      "outputs": []
    },
    {
      "cell_type": "code",
      "source": [
        "rng = np.random.default_rng(42)\n",
        "scores = rng.integers(low=50, high=101, size=(4, 4))\n",
        "\n"
      ],
      "metadata": {
        "id": "SNoXQx95Cw9o"
      },
      "execution_count": 16,
      "outputs": []
    },
    {
      "cell_type": "code",
      "source": [
        "row_means = scores.mean(axis=1)\n",
        "col_means = scores.mean(axis=0)\n",
        "\n"
      ],
      "metadata": {
        "id": "mDOwmvonC2IV"
      },
      "execution_count": 17,
      "outputs": []
    },
    {
      "cell_type": "code",
      "source": [
        "global_mean = scores.mean()\n",
        "global_std = scores.std()       # population std (ddof=0)\n",
        "global_var = scores.var()\n"
      ],
      "metadata": {
        "id": "sdRMYNs8C2LN"
      },
      "execution_count": 18,
      "outputs": []
    },
    {
      "cell_type": "code",
      "source": [
        "row_std = scores.std(axis=1)\n",
        "col_std = scores.std(axis=0)\n",
        "\n"
      ],
      "metadata": {
        "id": "ufSA8LDbC2Oj"
      },
      "execution_count": 19,
      "outputs": []
    },
    {
      "cell_type": "code",
      "source": [
        "row_var = scores.var(axis=1)\n",
        "col_var = scores.var(axis=0)\n"
      ],
      "metadata": {
        "id": "I7EsFZcOCxFJ"
      },
      "execution_count": 20,
      "outputs": []
    },
    {
      "cell_type": "code",
      "source": [
        "global_max = scores.max()\n",
        "global_min = scores.min()\n",
        "\n"
      ],
      "metadata": {
        "id": "GbOJ9ZQbCxIn"
      },
      "execution_count": 21,
      "outputs": []
    },
    {
      "cell_type": "code",
      "source": [
        "max_flat_index = scores.argmax()\n",
        "min_flat_index = scores.argmin()\n",
        "max_rc = np.unravel_index(max_flat_index, scores.shape)  # (row, col)\n",
        "min_rc = np.unravel_index(min_flat_index, scores.shape)\n",
        "\n"
      ],
      "metadata": {
        "id": "JV5m8ITuDM_9"
      },
      "execution_count": 22,
      "outputs": []
    },
    {
      "cell_type": "code",
      "source": [
        "df = pd.DataFrame(scores, columns=[f\"Test{j+1}\" for j in range(scores.shape[1])])\n",
        "df[\"Row Mean\"] = row_means.round(2)\n"
      ],
      "metadata": {
        "id": "-BUaJdLdDNDZ"
      },
      "execution_count": 23,
      "outputs": []
    },
    {
      "cell_type": "code",
      "source": [
        "col_means_series = pd.Series(list(col_means) + [np.nan], index=df.columns, name=\"Col Mean\").round(2)\n",
        "df_with_col_means = pd.concat([df, pd.DataFrame([col_means_series])], ignore_index=True)\n"
      ],
      "metadata": {
        "id": "d_YOlALSDNRs"
      },
      "execution_count": 24,
      "outputs": []
    },
    {
      "cell_type": "code",
      "source": [
        "print(\"=== 4x4 Test Scores Statistical Summary ===\")\n",
        "print(\"Scores Array:\\n\", scores)\n",
        "print(\"\\nRow-wise Means:\", np.round(row_means, 2))\n",
        "print(\"Column-wise Means:\", np.round(col_means, 2))\n",
        "print(\"\\nGlobal Mean:\", round(global_mean, 2))\n",
        "print(\"Global Std:\", round(global_std, 2))\n",
        "print(\"Global Var:\", round(global_var, 2))\n",
        "print(\"\\nRow-wise Std:\", np.round(row_std, 2))\n",
        "print(\"Column-wise Std:\", np.round(col_std, 2))\n",
        "print(\"Row-wise Var:\", np.round(row_var, 2))\n",
        "print(\"Column-wise Var:\", np.round(col_var, 2))\n",
        "print(\"\\nGlobal Max:\", global_max, \"at index (row, col) =\", max_rc)\n",
        "print(\"Global Min:\", global_min, \"at index (row, col) =\", min_rc)\n",
        "\n"
      ],
      "metadata": {
        "colab": {
          "base_uri": "https://localhost:8080/"
        },
        "id": "krefRchMDNVE",
        "outputId": "c6563d4f-7c51-4c88-8143-517e95f2119a"
      },
      "execution_count": 25,
      "outputs": [
        {
          "output_type": "stream",
          "name": "stdout",
          "text": [
            "=== 4x4 Test Scores Statistical Summary ===\n",
            "Scores Array:\n",
            " [[54 89 83 72]\n",
            " [72 93 54 85]\n",
            " [60 54 76 99]\n",
            " [87 88 86 90]]\n",
            "\n",
            "Row-wise Means: [74.5  76.   72.25 87.75]\n",
            "Column-wise Means: [68.25 81.   74.75 86.5 ]\n",
            "\n",
            "Global Mean: 77.62\n",
            "Global Std: 14.53\n",
            "Global Var: 210.98\n",
            "\n",
            "Row-wise Std: [13.31 14.75 17.41  1.48]\n",
            "Column-wise Std: [12.62 15.7  12.52  9.76]\n",
            "Row-wise Var: [177.25 217.5  303.19   2.19]\n",
            "Column-wise Var: [159.19 246.5  156.69  95.25]\n",
            "\n",
            "Global Max: 99 at index (row, col) = (np.int64(2), np.int64(3))\n",
            "Global Min: 54 at index (row, col) = (np.int64(0), np.int64(0))\n"
          ]
        }
      ]
    },
    {
      "cell_type": "code",
      "source": [],
      "metadata": {
        "id": "KS8IGu2JDXuC"
      },
      "execution_count": null,
      "outputs": []
    },
    {
      "cell_type": "code",
      "source": [
        "df_with_col_means.to_csv(\"test_scores_4x4.csv\", index=False)\n"
      ],
      "metadata": {
        "id": "-76QAIKqDXxY"
      },
      "execution_count": 26,
      "outputs": []
    },
    {
      "cell_type": "code",
      "source": [
        "report_lines = []\n",
        "report_lines.append(\"=== 4x4 Test Scores Statistical Summary ===\")\n",
        "report_lines.append(f\"Scores Array:\\n{scores}\")\n",
        "report_lines.append(\"\")\n",
        "report_lines.append(f\"Row-wise Means: {np.round(row_means, 2)}\")\n",
        "report_lines.append(f\"Column-wise Means: {np.round(col_means, 2)}\")\n",
        "report_lines.append(\"\")\n",
        "report_lines.append(f\"Global Mean: {global_mean:.2f}\")\n",
        "report_lines.append(f\"Global Std (ddof=0): {global_std:.2f}\")\n",
        "report_lines.append(f\"Global Var (ddof=0): {global_var:.2f}\")\n",
        "report_lines.append(\"\")\n",
        "report_lines.append(f\"Row-wise Std: {np.round(row_std, 2)}\")\n",
        "report_lines.append(f\"Column-wise Std: {np.round(col_std, 2)}\")\n",
        "report_lines.append(f\"Row-wise Var: {np.round(row_var, 2)}\")\n",
        "report_lines.append(f\"Column-wise Var: {np.round(col_var, 2)}\")\n",
        "report_lines.append(\"\")\n",
        "report_lines.append(f\"Global Max: {global_max} at index (row, col) = {max_rc}\")\n",
        "report_lines.append(f\"Global Min: {global_min} at index (row, col) = {min_rc}\")\n",
        "\n",
        "with open(\"test_scores_summary.txt\", \"w\") as f:\n",
        "    f.write(\"\\n\".join(report_lines))\n",
        "\n"
      ],
      "metadata": {
        "id": "Ildu6JV6DXzz"
      },
      "execution_count": 27,
      "outputs": []
    },
    {
      "cell_type": "code",
      "source": [
        "fig, ax = plt.subplots(figsize=(6, 5))\n",
        "im = ax.imshow(scores)\n"
      ],
      "metadata": {
        "colab": {
          "base_uri": "https://localhost:8080/",
          "height": 451
        },
        "id": "JM8C5c2tDfNg",
        "outputId": "9d9acd51-522c-4811-dcce-f81e023833dd"
      },
      "execution_count": 28,
      "outputs": [
        {
          "output_type": "display_data",
          "data": {
            "text/plain": [
              "<Figure size 600x500 with 1 Axes>"
            ],
            "image/png": "[encoded data removed]"
          },
          "metadata": {}
        }
      ]
    },
    {
      "cell_type": "code",
      "source": [
        "for i in range(scores.shape[0]):\n",
        "    for j in range(scores.shape[1]):\n",
        "        ax.text(j, i, str(scores[i, j]), ha=\"center\", va=\"center\")\n",
        "\n"
      ],
      "metadata": {
        "id": "weNetCTXDj52"
      },
      "execution_count": 29,
      "outputs": []
    },
    {
      "cell_type": "code",
      "source": [
        "ax.scatter([max_rc[1]], [max_rc[0]], marker=\"o\", s=120, facecolors=\"none\", edgecolors=\"black\", linewidths=2)\n",
        "ax.scatter([min_rc[1]], [min_rc[0]], marker=\"s\", s=120, facecolors=\"none\", edgecolors=\"black\", linewidths=2)\n",
        "\n"
      ],
      "metadata": {
        "colab": {
          "base_uri": "https://localhost:8080/"
        },
        "id": "4vl7nh5gDj9C",
        "outputId": "ebe9f93c-230b-4312-9671-df4574263f94"
      },
      "execution_count": 30,
      "outputs": [
        {
          "output_type": "execute_result",
          "data": {
            "text/plain": [
              "<matplotlib.collections.PathCollection at 0x7ff52a35b0b0>"
            ]
          },
          "metadata": {},
          "execution_count": 30
        }
      ]
    },
    {
      "cell_type": "code",
      "source": [
        "ax.set_xticks(range(scores.shape[1]))\n",
        "ax.set_yticks(range(scores.shape[0]))\n",
        "ax.set_xticklabels([f\"Test{j+1}\" for j in range(scores.shape[1])])\n",
        "ax.set_yticklabels([f\"Stu{i+1}\" for i in range(scores.shape[0])])\n",
        "ax.set_title(\"4x4 Test Scores Heatmap (circle=max, square=min)\")\n",
        "plt.tight_layout()\n",
        "plt.savefig(\"test_scores_heatmap.png\", dpi=200)\n",
        "plt.show()\n"
      ],
      "metadata": {
        "colab": {
          "base_uri": "https://localhost:8080/",
          "height": 34
        },
        "id": "ivc7GC2WDkAO",
        "outputId": "df1cd453-b265-4641-cf82-616a506fab20"
      },
      "execution_count": 31,
      "outputs": [
        {
          "output_type": "display_data",
          "data": {
            "text/plain": [
              "<Figure size 640x480 with 0 Axes>"
            ]
          },
          "metadata": {}
        }
      ]
    },
    {
      "cell_type": "code",
      "source": [
        "metrics = {\n",
        "    \"scores\": scores.tolist(),\n",
        "    \"row_means\": np.round(row_means, 2).tolist(),\n",
        "    \"col_means\": np.round(col_means, 2).tolist(),\n",
        "    \"global\": {\"mean\": float(global_mean), \"std\": float(global_std), \"var\": float(global_var)},\n",
        "    \"global_max\": {\"value\": int(global_max), \"index\": (int(max_rc[0]), int(max_rc[1]))},\n",
        "    \"global_min\": {\"value\": int(global_min), \"index\": (int(min_rc[0]), int(min_rc[1]))},\n",
        "}\n",
        "with open(\"test_scores_metrics.json\", \"w\") as jf:\n",
        "    json.dump(metrics, jf, indent=2)"
      ],
      "metadata": {
        "id": "TiRMLXgSDfQ4"
      },
      "execution_count": 34,
      "outputs": []
    }
  ]
}